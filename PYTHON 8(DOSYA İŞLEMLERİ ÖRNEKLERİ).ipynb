{
 "cells": [
  {
   "cell_type": "code",
   "execution_count": 7,
   "metadata": {},
   "outputs": [],
   "source": [
    "def main():\n",
    "    sayac=open(\"sayac.txt\",'w')\n",
    "    for say in range(1,100):\n",
    "        sayac.write(str(say)+ '\\n')\n",
    "    sayac.close()\n",
    "main()\n",
    "    "
   ]
  },
  {
   "cell_type": "code",
   "execution_count": 12,
   "metadata": {},
   "outputs": [],
   "source": [
    "def main():\n",
    "    sayac=open(\"sayac.txt\",'r')\n",
    "    deneme=sayac.read()\n",
    "    sayac.close()\n",
    "    print(deneme)\n",
    "main()\n",
    "    "
   ]
  },
  {
   "cell_type": "code",
   "execution_count": 14,
   "metadata": {},
   "outputs": [
    {
     "name": "stdout",
     "output_type": "stream",
     "text": [
      "4950\n"
     ]
    }
   ],
   "source": [
    "def main():\n",
    "    toplam=0\n",
    "    sayac=open(\"sayac.txt\",'r')\n",
    "    for say in range(1,100):\n",
    "        toplam+=say\n",
    "    sayac.close()\n",
    "    print(toplam)\n",
    "    \n",
    "main()\n",
    "    "
   ]
  },
  {
   "cell_type": "code",
   "execution_count": null,
   "metadata": {},
   "outputs": [],
   "source": []
  }
 ],
 "metadata": {
  "kernelspec": {
   "display_name": "Python 3",
   "language": "python",
   "name": "python3"
  },
  "language_info": {
   "codemirror_mode": {
    "name": "ipython",
    "version": 3
   },
   "file_extension": ".py",
   "mimetype": "text/x-python",
   "name": "python",
   "nbconvert_exporter": "python",
   "pygments_lexer": "ipython3",
   "version": "3.8.3"
  }
 },
 "nbformat": 4,
 "nbformat_minor": 4
}
