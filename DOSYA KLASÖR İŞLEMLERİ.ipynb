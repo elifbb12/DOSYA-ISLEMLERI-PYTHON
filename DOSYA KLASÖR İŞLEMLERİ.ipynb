{
 "cells": [
  {
   "cell_type": "code",
   "execution_count": 1,
   "metadata": {},
   "outputs": [
    {
     "name": "stdout",
     "output_type": "stream",
     "text": [
      " Volume in drive C has no label.\n",
      " Volume Serial Number is 50B7-E180\n",
      "\n",
      " Directory of C:\\Users\\ELiF\\Desktop\\PYTHON 3\n",
      "\n",
      "03.12.2020  20:27    <DIR>          .\n",
      "03.12.2020  20:27    <DIR>          ..\n",
      "03.12.2020  20:26    <DIR>          .ipynb_checkpoints\n",
      "16.09.2020  11:38            10.948 BOOLEAN  LİST SET TUPLE DİCTİONARY.ipynb\n",
      "03.12.2020  20:05             3.923 CLASS YAPISI VE OOP.ipynb\n",
      "03.12.2020  20:16             6.869 CLASSLARDA METOTLAR.ipynb\n",
      "26.10.2020  00:15             2.246 ÇOK BOYUTLU DİZİYİ TEK BOYUTA ÇEVİRMEK.ipynb\n",
      "27.11.2020  17:36             5.618 DEF FUNCTIONS.ipynb\n",
      "03.12.2020  20:27               555 DOSYA KLASÖR İŞLEMLERİ.ipynb\n",
      "07.10.2020  18:39               957 ENUMERATE.ipynb\n",
      "02.12.2020  20:20             8.857 FONKSİYONLAR1.ipynb\n",
      "02.10.2020  12:53             1.166 İF SORGULARI.ipynb\n",
      "02.12.2020  20:42             3.137 İNPUT KOMUTU İLE KULLANICIDAN VERİ ALMA.ipynb\n",
      "03.12.2020  20:25             2.309 KALITIM.ipynb\n",
      "07.10.2020  18:08             5.171 LİSTELERDE FOR DÖNGÜSÜ.ipynb\n",
      "07.10.2020  10:29               602 NESNE YÖNELİMLİ PROGRAMLAMA 7.10.20.ipynb\n",
      "22.10.2020  21:15    <DIR>          Python_Egitim-master\n",
      "21.10.2020  09:30             3.081 RANGE.ipynb\n",
      "05.11.2020  22:19               741 STARTING OUT PYTHON.ipynb\n",
      "03.12.2020  17:56             4.621 TRY EXCEPT VE FİNALLY KOMUTLARI.ipynb\n",
      "03.12.2020  18:01             3.675 TRY EXCEPT.ipynb\n",
      "10.11.2020  12:10               687 TURTLE.ipynb\n",
      "09.09.2020  23:06             1.771 VERİ TİPLERİ STRİNG.ipynb\n",
      "07.10.2020  18:24             2.039 WHİLE DÖNGÜSÜ.ipynb\n",
      "07.10.2020  18:47             1.042 ZİP.ipynb\n",
      "              21 File(s)         70.015 bytes\n",
      "               4 Dir(s)  112.077.832.192 bytes free\n"
     ]
    }
   ],
   "source": [
    "##MAGIC COMMAND\n",
    "%ls"
   ]
  },
  {
   "cell_type": "code",
   "execution_count": 3,
   "metadata": {},
   "outputs": [
    {
     "data": {
      "text/plain": [
       "'C:\\\\Users\\\\ELiF\\\\Desktop\\\\PYTHON 3'"
      ]
     },
     "execution_count": 3,
     "metadata": {},
     "output_type": "execute_result"
    }
   ],
   "source": [
    "%pwd"
   ]
  },
  {
   "cell_type": "code",
   "execution_count": 4,
   "metadata": {},
   "outputs": [],
   "source": [
    "##OS MODULÜ##\n",
    "import os"
   ]
  },
  {
   "cell_type": "code",
   "execution_count": 5,
   "metadata": {},
   "outputs": [
    {
     "data": {
      "text/plain": [
       "'C:\\\\Users\\\\ELiF\\\\Desktop\\\\PYTHON 3'"
      ]
     },
     "execution_count": 5,
     "metadata": {},
     "output_type": "execute_result"
    }
   ],
   "source": [
    "os.getcwd()"
   ]
  },
  {
   "cell_type": "code",
   "execution_count": 6,
   "metadata": {},
   "outputs": [
    {
     "data": {
      "text/plain": [
       "['.ipynb_checkpoints',\n",
       " 'BOOLEAN  LİST SET TUPLE DİCTİONARY.ipynb',\n",
       " 'CLASS YAPISI VE OOP.ipynb',\n",
       " 'CLASSLARDA METOTLAR.ipynb',\n",
       " 'DEF FUNCTIONS.ipynb',\n",
       " 'DOSYA KLASÖR İŞLEMLERİ.ipynb',\n",
       " 'ENUMERATE.ipynb',\n",
       " 'FONKSİYONLAR1.ipynb',\n",
       " 'KALITIM.ipynb',\n",
       " 'LİSTELERDE FOR DÖNGÜSÜ.ipynb',\n",
       " 'NESNE YÖNELİMLİ PROGRAMLAMA 7.10.20.ipynb',\n",
       " 'Python_Egitim-master',\n",
       " 'RANGE.ipynb',\n",
       " 'STARTING OUT PYTHON.ipynb',\n",
       " 'TRY EXCEPT VE FİNALLY KOMUTLARI.ipynb',\n",
       " 'TRY EXCEPT.ipynb',\n",
       " 'TURTLE.ipynb',\n",
       " 'VERİ TİPLERİ STRİNG.ipynb',\n",
       " 'WHİLE DÖNGÜSÜ.ipynb',\n",
       " 'ZİP.ipynb',\n",
       " 'ÇOK BOYUTLU DİZİYİ TEK BOYUTA ÇEVİRMEK.ipynb',\n",
       " 'İF SORGULARI.ipynb',\n",
       " 'İNPUT KOMUTU İLE KULLANICIDAN VERİ ALMA.ipynb']"
      ]
     },
     "execution_count": 6,
     "metadata": {},
     "output_type": "execute_result"
    }
   ],
   "source": [
    "os.listdir()"
   ]
  },
  {
   "cell_type": "code",
   "execution_count": 7,
   "metadata": {},
   "outputs": [
    {
     "data": {
      "text/plain": [
       "['All Users', 'Default', 'Default User', 'desktop.ini', 'ELiF', 'Public']"
      ]
     },
     "execution_count": 7,
     "metadata": {},
     "output_type": "execute_result"
    }
   ],
   "source": [
    "os.listdir('C:\\\\Users')"
   ]
  },
  {
   "cell_type": "code",
   "execution_count": 10,
   "metadata": {},
   "outputs": [],
   "source": [
    "os.chdir('C:\\\\Users\\\\ELiF\\\\Desktop\\\\PYTHON 3')"
   ]
  },
  {
   "cell_type": "code",
   "execution_count": 12,
   "metadata": {},
   "outputs": [
    {
     "name": "stdout",
     "output_type": "stream",
     "text": [
      ".ipynb_checkpointsELİF\n",
      "BOOLEAN  LİST SET TUPLE DİCTİONARY.ipynbELİF\n",
      "CLASS YAPISI VE OOP.ipynbELİF\n",
      "CLASSLARDA METOTLAR.ipynbELİF\n",
      "DEF FUNCTIONS.ipynbELİF\n",
      "DOSYA KLASÖR İŞLEMLERİ.ipynbELİF\n",
      "ENUMERATE.ipynbELİF\n",
      "FONKSİYONLAR1.ipynbELİF\n",
      "KALITIM.ipynbELİF\n",
      "LİSTELERDE FOR DÖNGÜSÜ.ipynbELİF\n",
      "NESNE YÖNELİMLİ PROGRAMLAMA 7.10.20.ipynbELİF\n",
      "Python_Egitim-masterELİF\n",
      "RANGE.ipynbELİF\n",
      "STARTING OUT PYTHON.ipynbELİF\n",
      "TRY EXCEPT VE FİNALLY KOMUTLARI.ipynbELİF\n",
      "TRY EXCEPT.ipynbELİF\n",
      "TURTLE.ipynbELİF\n",
      "VERİ TİPLERİ STRİNG.ipynbELİF\n",
      "WHİLE DÖNGÜSÜ.ipynbELİF\n",
      "ZİP.ipynbELİF\n",
      "ÇOK BOYUTLU DİZİYİ TEK BOYUTA ÇEVİRMEK.ipynbELİF\n",
      "İF SORGULARI.ipynbELİF\n",
      "İNPUT KOMUTU İLE KULLANICIDAN VERİ ALMA.ipynbELİF\n"
     ]
    }
   ],
   "source": [
    "dosyalar= os.listdir()\n",
    "for eleman in dosyalar:\n",
    "    print(eleman + \"ELİF\")"
   ]
  },
  {
   "cell_type": "code",
   "execution_count": 14,
   "metadata": {},
   "outputs": [],
   "source": [
    "os.mkdir('C:\\\\Users\\\\ELiF\\\\Desktop\\\\PYTHON 3\\\\ deneme_klasoru')"
   ]
  },
  {
   "cell_type": "code",
   "execution_count": 15,
   "metadata": {},
   "outputs": [
    {
     "data": {
      "text/plain": [
       "[' deneme_klasoru',\n",
       " '.ipynb_checkpoints',\n",
       " 'BOOLEAN  LİST SET TUPLE DİCTİONARY.ipynb',\n",
       " 'CLASS YAPISI VE OOP.ipynb',\n",
       " 'CLASSLARDA METOTLAR.ipynb',\n",
       " 'DEF FUNCTIONS.ipynb',\n",
       " 'DOSYA KLASÖR İŞLEMLERİ.ipynb',\n",
       " 'ENUMERATE.ipynb',\n",
       " 'FONKSİYONLAR1.ipynb',\n",
       " 'KALITIM.ipynb',\n",
       " 'LİSTELERDE FOR DÖNGÜSÜ.ipynb',\n",
       " 'NESNE YÖNELİMLİ PROGRAMLAMA 7.10.20.ipynb',\n",
       " 'Python_Egitim-master',\n",
       " 'RANGE.ipynb',\n",
       " 'STARTING OUT PYTHON.ipynb',\n",
       " 'TRY EXCEPT VE FİNALLY KOMUTLARI.ipynb',\n",
       " 'TRY EXCEPT.ipynb',\n",
       " 'TURTLE.ipynb',\n",
       " 'VERİ TİPLERİ STRİNG.ipynb',\n",
       " 'WHİLE DÖNGÜSÜ.ipynb',\n",
       " 'ZİP.ipynb',\n",
       " 'ÇOK BOYUTLU DİZİYİ TEK BOYUTA ÇEVİRMEK.ipynb',\n",
       " 'İF SORGULARI.ipynb',\n",
       " 'İNPUT KOMUTU İLE KULLANICIDAN VERİ ALMA.ipynb']"
      ]
     },
     "execution_count": 15,
     "metadata": {},
     "output_type": "execute_result"
    }
   ],
   "source": [
    "os.listdir()"
   ]
  },
  {
   "cell_type": "code",
   "execution_count": 16,
   "metadata": {},
   "outputs": [
    {
     "ename": "FileNotFoundError",
     "evalue": "[WinError 2] Sistem belirtilen dosyayı bulamıyor: 'C:\\\\Users\\\\ELiF\\\\Desktop\\\\PYTHON 3\\\\ deneme_klasoru'",
     "output_type": "error",
     "traceback": [
      "\u001b[1;31m---------------------------------------------------------------------------\u001b[0m",
      "\u001b[1;31mFileNotFoundError\u001b[0m                         Traceback (most recent call last)",
      "\u001b[1;32m<ipython-input-16-254626625c88>\u001b[0m in \u001b[0;36m<module>\u001b[1;34m\u001b[0m\n\u001b[1;32m----> 1\u001b[1;33m \u001b[0mos\u001b[0m\u001b[1;33m.\u001b[0m\u001b[0mrmdir\u001b[0m\u001b[1;33m(\u001b[0m\u001b[1;34m'C:\\\\Users\\\\ELiF\\\\Desktop\\\\PYTHON 3\\\\ deneme_klasoru'\u001b[0m\u001b[1;33m)\u001b[0m\u001b[1;33m\u001b[0m\u001b[1;33m\u001b[0m\u001b[0m\n\u001b[0m",
      "\u001b[1;31mFileNotFoundError\u001b[0m: [WinError 2] Sistem belirtilen dosyayı bulamıyor: 'C:\\\\Users\\\\ELiF\\\\Desktop\\\\PYTHON 3\\\\ deneme_klasoru'"
     ]
    }
   ],
   "source": [
    "os.rmdir('C:\\\\Users\\\\ELiF\\\\Desktop\\\\PYTHON 3\\\\ deneme_klasoru') ##daha önce sildiğim için hata verdi."
   ]
  },
  {
   "cell_type": "code",
   "execution_count": 17,
   "metadata": {},
   "outputs": [],
   "source": [
    "yeni_dosya=os.open(\"yeni_dosya.txt\", os.O_RDWR|os.O_CREAT)\n",
    "os.write(yeni_dosya,\"HELLO\".encode())\n",
    "os.close(yeni_dosya)  ##oluşturuldu."
   ]
  },
  {
   "cell_type": "code",
   "execution_count": 2,
   "metadata": {},
   "outputs": [
    {
     "ename": "NameError",
     "evalue": "name 'os' is not defined",
     "output_type": "error",
     "traceback": [
      "\u001b[1;31m---------------------------------------------------------------------------\u001b[0m",
      "\u001b[1;31mNameError\u001b[0m                                 Traceback (most recent call last)",
      "\u001b[1;32m<ipython-input-2-20e7ddae77dc>\u001b[0m in \u001b[0;36m<module>\u001b[1;34m\u001b[0m\n\u001b[1;32m----> 1\u001b[1;33m \u001b[0mos\u001b[0m\u001b[1;33m.\u001b[0m\u001b[0munlink\u001b[0m\u001b[1;33m(\u001b[0m\u001b[1;34m\"yeni_dosya\"\u001b[0m\u001b[1;33m)\u001b[0m\u001b[1;33m\u001b[0m\u001b[1;33m\u001b[0m\u001b[0m\n\u001b[0m",
      "\u001b[1;31mNameError\u001b[0m: name 'os' is not defined"
     ]
    }
   ],
   "source": [
    "os.unlink(\"yeni_dosya\")"
   ]
  }
 ],
 "metadata": {
  "kernelspec": {
   "display_name": "Python 3",
   "language": "python",
   "name": "python3"
  },
  "language_info": {
   "codemirror_mode": {
    "name": "ipython",
    "version": 3
   },
   "file_extension": ".py",
   "mimetype": "text/x-python",
   "name": "python",
   "nbconvert_exporter": "python",
   "pygments_lexer": "ipython3",
   "version": "3.8.3"
  }
 },
 "nbformat": 4,
 "nbformat_minor": 4
}
