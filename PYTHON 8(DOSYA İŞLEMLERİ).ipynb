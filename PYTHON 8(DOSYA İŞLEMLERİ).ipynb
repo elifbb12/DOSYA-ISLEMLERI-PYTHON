{
 "cells": [
  {
   "cell_type": "code",
   "execution_count": 18,
   "metadata": {},
   "outputs": [],
   "source": [
    "deneme1=open(\"hosgeldin.txt\",'w')\n",
    "deneme1.write(\"hoşgeldiniz\")\n",
    "deneme.close()"
   ]
  },
  {
   "cell_type": "code",
   "execution_count": null,
   "metadata": {},
   "outputs": [],
   "source": [
    "deneme6=open(r'C:Users\\ELİF\\Desktop\\deneme6.txt)"
   ]
  },
  {
   "cell_type": "code",
   "execution_count": 8,
   "metadata": {},
   "outputs": [],
   "source": [
    "def main():\n",
    "    deneme12=open(\"deneme12.txt\",'w')\n",
    "    deneme12.write(\"elif\\n\")\n",
    "    deneme12.write(\"elif1\\n\")\n",
    "    deneme12.write(\"elif3\\n\")\n",
    "    deneme12.close()\n",
    "main()\n"
   ]
  },
  {
   "cell_type": "code",
   "execution_count": 7,
   "metadata": {},
   "outputs": [
    {
     "name": "stdout",
     "output_type": "stream",
     "text": [
      "elif\n",
      "elif1\n",
      "elif2\n",
      "\n"
     ]
    }
   ],
   "source": [
    "def main():\n",
    "    deneme12=open(\"deneme12.txt\",'r')\n",
    "    dosya=deneme12.read()\n",
    "    deneme12.close()\n",
    "    print(dosya)\n",
    "main()\n",
    "      \n",
    "    "
   ]
  },
  {
   "cell_type": "code",
   "execution_count": 11,
   "metadata": {},
   "outputs": [
    {
     "name": "stdout",
     "output_type": "stream",
     "text": [
      "elif\n",
      "\n",
      "elif1\n",
      "\n",
      "elif3\n",
      "\n"
     ]
    }
   ],
   "source": [
    "def main():   \n",
    "    deneme12=open(\"deneme12.txt\",'r')\n",
    "    line1=deneme12.readline()\n",
    "    line2=deneme12.readline()\n",
    "    line3=deneme12.readline()\n",
    "    deneme12.close()\n",
    "    print(line1)\n",
    "    print(line2)\n",
    "    print(line3)\n",
    "main()\n"
   ]
  },
  {
   "cell_type": "code",
   "execution_count": 15,
   "metadata": {},
   "outputs": [
    {
     "name": "stdout",
     "output_type": "stream",
     "text": [
      "Gitmek istediğiniz üç farklı ülkeyi yazınız.\n",
      "1.ÜLKE: almanya\n",
      "2.ÜLKE: fransa\n",
      "3.ÜLKE: ingiltere\n",
      "gitmek istediğiniz ülkeler ulkeler.txt adlı nota yazılmıştır.\n"
     ]
    }
   ],
   "source": [
    "def main():\n",
    "    print(\"Gitmek istediğiniz üç farklı ülkeyi yazınız.\")\n",
    "    ulke1=input(\"1.ÜLKE: \")\n",
    "    ulke2=input(\"2.ÜLKE: \")\n",
    "    ulke3=input(\"3.ÜLKE: \")\n",
    "    ulke_dosya=open(\"ulkeler.txt\",'w')\n",
    "    ulke_dosya.write(ulke1+'\\n')\n",
    "    ulke_dosya.write(ulke2+'\\n')\n",
    "    ulke_dosya.write(ulke3+'\\n')\n",
    "    ulke_dosya.close()\n",
    "    print(\"gitmek istediğiniz ülkeler ulkeler.txt adlı nota yazılmıştır.\")\n",
    "main()\n",
    "    "
   ]
  },
  {
   "cell_type": "code",
   "execution_count": 16,
   "metadata": {},
   "outputs": [
    {
     "name": "stdout",
     "output_type": "stream",
     "text": [
      "elif\n",
      "elif1\n",
      "elif3\n"
     ]
    }
   ],
   "source": [
    "def main():   \n",
    "    deneme12=open(\"deneme12.txt\",'r')\n",
    "    line1=deneme12.readline()\n",
    "    line2=deneme12.readline()\n",
    "    line3=deneme12.readline()\n",
    "    \n",
    "    line1=line1.rstrip('\\n')\n",
    "    line2=line2.rstrip('\\n')\n",
    "    line3=line3.rstrip('\\n')\n",
    "    deneme12.close()\n",
    "    print(line1)\n",
    "    print(line2)\n",
    "    print(line3)\n",
    "main()\n"
   ]
  },
  {
   "cell_type": "code",
   "execution_count": 19,
   "metadata": {},
   "outputs": [
    {
     "name": "stdout",
     "output_type": "stream",
     "text": [
      "gitmek istediğiniz ülkeler ulkeler.txt adlı nota yazılmıştır.\n"
     ]
    }
   ],
   "source": [
    "def main():\n",
    "    \n",
    "    ulke_dosya=open(\"ulkeler.txt\",'a')\n",
    "    ulke_dosya.write('Rusya\\n')\n",
    "    ulke_dosya.write('amerika\\n')\n",
    "    ulke_dosya.write('gürcistan\\n')\n",
    "    ulke_dosya.close()\n",
    "    print(\"gitmek istediğiniz ülkeler ulkeler.txt adlı nota yazılmıştır.\")\n",
    "main()"
   ]
  },
  {
   "cell_type": "code",
   "execution_count": 22,
   "metadata": {},
   "outputs": [
    {
     "name": "stdout",
     "output_type": "stream",
     "text": [
      "bir sayı giriniz: 120\n",
      "bir sayı daha giriniz: 145\n",
      "bir sayı daha giriniz:178\n",
      "girdiğiniz sayılar sayilar.txt dosyasına kaydedildi.\n"
     ]
    }
   ],
   "source": [
    "def main():\n",
    "    dosya=open(\"sayilar.txt\",'w')\n",
    "    sayi1=int(input(\"bir sayı giriniz: \"))\n",
    "    sayi2=int(input(\"bir sayı daha giriniz: \"))\n",
    "    sayi3=int(input(\"bir sayı daha giriniz:\"))\n",
    "    dosya.write(str(sayi1)+'\\n')\n",
    "    dosya.write(str(sayi2)+'\\n')\n",
    "    dosya.write(str(sayi3)+'\\n')\n",
    "    dosya.close()\n",
    "    print(\"girdiğiniz sayılar sayilar.txt dosyasına kaydedildi.\")\n",
    "main()\n",
    "    "
   ]
  },
  {
   "cell_type": "code",
   "execution_count": 24,
   "metadata": {},
   "outputs": [
    {
     "name": "stdout",
     "output_type": "stream",
     "text": [
      "120\n",
      "\n"
     ]
    }
   ],
   "source": [
    "dosya=open('sayilar.txt','r')\n",
    "deger=dosya.readline()\n",
    "dosya.close()\n",
    "print(deger)"
   ]
  },
  {
   "cell_type": "code",
   "execution_count": 28,
   "metadata": {},
   "outputs": [
    {
     "name": "stdout",
     "output_type": "stream",
     "text": [
      "120\n"
     ]
    }
   ],
   "source": [
    "dosya=open('sayilar.txt', 'r')\n",
    "string=dosya.readline()\n",
    "deger=int(string)\n",
    "dosya.close()\n",
    "print(deger)"
   ]
  },
  {
   "cell_type": "code",
   "execution_count": 29,
   "metadata": {},
   "outputs": [],
   "source": [
    "dosya=open('sayilar.txt', 'r')\n",
    "deger=int(dosya.readline())\n",
    "dosya.close()"
   ]
  },
  {
   "cell_type": "code",
   "execution_count": 31,
   "metadata": {},
   "outputs": [
    {
     "ename": "SyntaxError",
     "evalue": "invalid syntax (<ipython-input-31-24a7b830f30f>, line 1)",
     "output_type": "error",
     "traceback": [
      "\u001b[1;36m  File \u001b[1;32m\"<ipython-input-31-24a7b830f30f>\"\u001b[1;36m, line \u001b[1;32m1\u001b[0m\n\u001b[1;33m    ***/out uzantısı bazı yazılım beklenmeyen bir davranış analiz yanı\u001b[0m\n\u001b[1;37m    ^\u001b[0m\n\u001b[1;31mSyntaxError\u001b[0m\u001b[1;31m:\u001b[0m invalid syntax\n"
     ]
    }
   ],
   "source": [
    "***/out uzantısı bazı yazılım beklenmeyen bir davranış analiz yanı\n",
    "sıra günlük amacıyla kullanılan metinler içerirler. . out dosyaları genellikle \n",
    "düz metin biçiminde ve çoğunlukla çeşitli uygulamalara meydana gelen hataların açısından, \n",
    "bu dosyaları geliştirici gönderilir neden hata ayıklama için kullanılır.\n",
    "***/"
   ]
  },
  {
   "cell_type": "code",
   "execution_count": 39,
   "metadata": {},
   "outputs": [
    {
     "name": "stdout",
     "output_type": "stream",
     "text": [
      "toplamda video sayınızı giriniz: 2\n",
      "video # 1:10\n",
      "video # 2:1\n",
      "video süreleri video_zamanı dosyasına kaydedildi.\n",
      "1.0\n"
     ]
    }
   ],
   "source": [
    "def main():\n",
    "    video_sayisi=int(input(\"toplamda video sayınızı giriniz: \"))\n",
    "    video_dosyasi=open('video_zamanı.txt', 'w')\n",
    "    for sayac in range(1,video_sayisi+1):\n",
    "        video_suresi=float(input(\"video # \"+ str(sayac)+':'))\n",
    "        video_dosyasi.write(str(video_suresi)+'\\n')\n",
    "    video_dosyasi.close()\n",
    "    print(\"video süreleri video_zamanı dosyasına kaydedildi.\")\n",
    "    video_dosyasi=open('video_zamanı.txt', 'w')\n",
    "    \n",
    "    \n",
    "    \n",
    "main()\n"
   ]
  },
  {
   "cell_type": "code",
   "execution_count": 46,
   "metadata": {},
   "outputs": [
    {
     "name": "stdout",
     "output_type": "stream",
     "text": [
      "Kayıt edilecek kişi sayısını giriniz: 2\n",
      "Kayıt edilecek kişi #1\n",
      "isim giriniz: kgf\n",
      "soyad giriniz: vkfsb\n",
      "tc no giriniz: 48369836\n",
      "\n",
      "Kayıt edilecek kişi #2\n",
      "isim giriniz: fgk\n",
      "soyad giriniz: fdnd\n",
      "tc no giriniz: 4683\n",
      "\n",
      "kaydettiğiniz kişiler kisi_dosyasi.txt 'na kaydedildi...'\n"
     ]
    }
   ],
   "source": [
    "def main():\n",
    "    kisi=int(input(\"Kayıt edilecek kişi sayısını giriniz: \"))\n",
    "    kisi_dosyasi=open(\"kisi_dosyasi.txt\",\"w\")\n",
    "    for sayac in range(1,kisi+1):\n",
    "        print(\"Kayıt edilecek kişi #\",sayac,sep='')\n",
    "        adi=input(\"isim giriniz: \")\n",
    "        soyadi=input(\"soyad giriniz: \")\n",
    "        tc_no =int(input(\"tc no giriniz: \"))\n",
    "        kisi_dosyasi.write(adi + '\\n')\n",
    "        kisi_dosyasi.write(soyadi + '\\n')\n",
    "        kisi_dosyasi.write(str(tc_no) + '\\n')\n",
    "        print()\n",
    "    kisi_dosyasi.close()\n",
    "    print(\"kaydettiğiniz kişiler kisi_dosyasi.txt 'na kaydedildi...'\")\n",
    "main()\n"
   ]
  },
  {
   "cell_type": "code",
   "execution_count": 52,
   "metadata": {},
   "outputs": [
    {
     "ename": "SyntaxError",
     "evalue": "invalid syntax (<ipython-input-52-2c180b4a371e>, line 4)",
     "output_type": "error",
     "traceback": [
      "\u001b[1;36m  File \u001b[1;32m\"<ipython-input-52-2c180b4a371e>\"\u001b[1;36m, line \u001b[1;32m4\u001b[0m\n\u001b[1;33m    while != '':\u001b[0m\n\u001b[1;37m          ^\u001b[0m\n\u001b[1;31mSyntaxError\u001b[0m\u001b[1;31m:\u001b[0m invalid syntax\n"
     ]
    }
   ],
   "source": [
    "def main():\n",
    "    kisi_dosyasi=open(\"kisi_dosyasi.txt\",\"r\")\n",
    "    adi=kisi_dosyasi.readline()\n",
    "    while != '':\n",
    "        soyadi=kisi_dosyasi.readline()\n",
    "        tc_no=kisi_dosyasi.readline()\n",
    "        adi=adi.rstrip(\"\\n\")\n",
    "        soyadi=soyadi.rstrip(\"\\n\")\n",
    "        tc_no=tc_no.rstrip(\"\\n\")\n",
    "        print(\"İSİM: \",adi)\n",
    "        print(\"SOYADI: \",soyadi)\n",
    "        print(\"TC NO: \",tc_no)\n",
    "        print()\n",
    "        adi=kisi_dosyasi.readline()\n",
    "    kisi_dosyasi.close()\n",
    "main()"
   ]
  }
 ],
 "metadata": {
  "kernelspec": {
   "display_name": "Python 3",
   "language": "python",
   "name": "python3"
  },
  "language_info": {
   "codemirror_mode": {
    "name": "ipython",
    "version": 3
   },
   "file_extension": ".py",
   "mimetype": "text/x-python",
   "name": "python",
   "nbconvert_exporter": "python",
   "pygments_lexer": "ipython3",
   "version": "3.8.3"
  }
 },
 "nbformat": 4,
 "nbformat_minor": 4
}
